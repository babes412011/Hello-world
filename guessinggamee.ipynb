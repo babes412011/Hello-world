{
 "cells": [
  {
   "cell_type": "code",
   "execution_count": null,
   "metadata": {},
   "outputs": [],
   "source": [
    "#number guessing game that give hints and deduct points"
   ]
  },
  {
   "cell_type": "code",
   "execution_count": 1,
   "metadata": {},
   "outputs": [],
   "source": [
    "def divisors(number):\n",
    "    divisorslist = []\n",
    "    prime = ()\n",
    "    for num in range(1, number+1):\n",
    "        if number == 2:\n",
    "            prime = (\"hint: it's a prime number\")\n",
    "        elif number % num == 0:\n",
    "            divisorslist.append(num)\n",
    "        elif divisorslist[0] == 1 and len(divisorslist) == 1:\n",
    "            prime = (\"hint: it's a prime number\")\n",
    "        elif len(divisorslist) > 2:\n",
    "            prime = (\"hint: it's not a prime number\")\n",
    "    print(prime)\n",
    "            "
   ]
  },
  {
   "cell_type": "code",
   "execution_count": 2,
   "metadata": {},
   "outputs": [],
   "source": [
    "def hibelow50(number):\n",
    "    if number > 50:\n",
    "        print('the number greater than 50')\n",
    "    elif number == 50 or number < 50:\n",
    "        print('the number is 50 and below')"
   ]
  },
  {
   "cell_type": "code",
   "execution_count": 3,
   "metadata": {},
   "outputs": [],
   "source": [
    "def oddeven(x):\n",
    "        if x%2 == 0:\n",
    "            ans = (\"Hint: it's an even number\")\n",
    "        else:\n",
    "            ans = (\"Hint: it's an odd number\")\n",
    "        print(ans)"
   ]
  },
  {
   "cell_type": "code",
   "execution_count": 4,
   "metadata": {},
   "outputs": [],
   "source": [
    "import random\n",
    "def numgame():\n",
    "    num = random.randint(1, 101)\n",
    "    points = 100        \n",
    "                                  \n",
    "    while True:\n",
    "        if points == 90:\n",
    "            oddeven(num)\n",
    "        if points == 80:\n",
    "            hibelow50(num)\n",
    "        if points == 70:\n",
    "            divisors(num)\n",
    "        \n",
    "        print('your current points: ' + str(points))\n",
    "        try:\n",
    "            user = int(input('guess the number from 1 to 100: '))\n",
    "        except:\n",
    "            print('please enter a number from 1 to 100')\n",
    "            continue\n",
    "        if user == num:\n",
    "            print('that is correct the answer is, ' + str(num))\n",
    "            points == 100\n",
    "        \n",
    "        if user != num:\n",
    "            print('incorrect guess')\n",
    "            userin = input('try again? type y or n: ')\n",
    "            \n",
    "            \n",
    "            if userin == 'y':\n",
    "                points -= 10\n",
    "                continue\n",
    "            \n",
    "            elif userin != 'y':\n",
    "                print(\"The answer is \" + str(num) + \" Thank you for playing\")\n",
    "                break\n",
    "                \n",
    "        \n",
    "        \n",
    "    \n",
    "    \n",
    "   \n",
    "    \n",
    "    "
   ]
  },
  {
   "cell_type": "code",
   "execution_count": 5,
   "metadata": {},
   "outputs": [
    {
     "name": "stdout",
     "output_type": "stream",
     "text": [
      "your current points: 100\n",
      "guess the number from 1 to 100: 2\n",
      "incorrect guess\n",
      "try again? type y or n: y\n",
      "Hint: it's an even number\n",
      "your current points: 90\n",
      "guess the number from 1 to 100: 44\n",
      "incorrect guess\n",
      "try again? type y or n: y\n",
      "the number greater than 50\n",
      "your current points: 80\n",
      "guess the number from 1 to 100: 66\n",
      "incorrect guess\n",
      "try again? type y or n: y\n",
      "hint: it's not a prime number\n",
      "your current points: 70\n",
      "guess the number from 1 to 100: 52\n",
      "incorrect guess\n",
      "try again? type y or n: n\n",
      "The answer is 70 Thank you for playing\n"
     ]
    }
   ],
   "source": [
    "numgame()"
   ]
  },
  {
   "cell_type": "code",
   "execution_count": 3,
   "metadata": {},
   "outputs": [
    {
     "name": "stdout",
     "output_type": "stream",
     "text": [
      "the number is less than 50\n"
     ]
    }
   ],
   "source": [
    "hibelow50(3)\n"
   ]
  },
  {
   "cell_type": "code",
   "execution_count": null,
   "metadata": {},
   "outputs": [],
   "source": []
  }
 ],
 "metadata": {
  "kernelspec": {
   "display_name": "Python 3",
   "language": "python",
   "name": "python3"
  },
  "language_info": {
   "codemirror_mode": {
    "name": "ipython",
    "version": 3
   },
   "file_extension": ".py",
   "mimetype": "text/x-python",
   "name": "python",
   "nbconvert_exporter": "python",
   "pygments_lexer": "ipython3",
   "version": "3.7.6"
  }
 },
 "nbformat": 4,
 "nbformat_minor": 4
}
