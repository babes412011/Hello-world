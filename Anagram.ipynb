{
 "cells": [
  {
   "cell_type": "code",
   "execution_count": 1,
   "metadata": {},
   "outputs": [],
   "source": [
    "def numofchar(Input):\n",
    "    import pprint\n",
    "    count = {}\n",
    "    for character in Input:\n",
    "        if character in count.keys():\n",
    "            count[character] += 1\n",
    "        else:\n",
    "            count[character] = 1"
   ]
  },
  {
   "cell_type": "code",
   "execution_count": 4,
   "metadata": {},
   "outputs": [],
   "source": [
    "def anagramChecker():\n",
    "    word1 = input('enter the first word: ').lower()\n",
    "    word2 = input('enter the second word: ').lower()\n",
    "    count = {}\n",
    "    count2 = {}\n",
    "    for character in word1:\n",
    "        if character in count.keys():\n",
    "            count[character] += 1\n",
    "        else:\n",
    "            count[character] = 1\n",
    "        \n",
    "        \n",
    "    for character2 in word2:\n",
    "        if character2 in count2.keys():\n",
    "            count2[character2] += 1\n",
    "        else:\n",
    "            count2[character2] = 1\n",
    "    if count == count2:\n",
    "        return True\n",
    "    else:\n",
    "        return False\n",
    "    \n",
    "       \n",
    "    "
   ]
  },
  {
   "cell_type": "code",
   "execution_count": 7,
   "metadata": {},
   "outputs": [
    {
     "name": "stdout",
     "output_type": "stream",
     "text": [
      "enter the first word: godd\n",
      "enter the second word: dogg\n"
     ]
    },
    {
     "data": {
      "text/plain": [
       "False"
      ]
     },
     "execution_count": 7,
     "metadata": {},
     "output_type": "execute_result"
    }
   ],
   "source": [
    "anagramChecker()"
   ]
  },
  {
   "cell_type": "code",
   "execution_count": null,
   "metadata": {},
   "outputs": [],
   "source": []
  },
  {
   "cell_type": "code",
   "execution_count": null,
   "metadata": {},
   "outputs": [],
   "source": []
  }
 ],
 "metadata": {
  "kernelspec": {
   "display_name": "Python 3",
   "language": "python",
   "name": "python3"
  },
  "language_info": {
   "codemirror_mode": {
    "name": "ipython",
    "version": 3
   },
   "file_extension": ".py",
   "mimetype": "text/x-python",
   "name": "python",
   "nbconvert_exporter": "python",
   "pygments_lexer": "ipython3",
   "version": "3.7.6"
  }
 },
 "nbformat": 4,
 "nbformat_minor": 4
}
