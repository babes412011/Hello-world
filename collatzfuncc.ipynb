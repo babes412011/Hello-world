{
 "cells": [
  {
   "cell_type": "code",
   "execution_count": 1,
   "metadata": {},
   "outputs": [],
   "source": [
    "def collatz():\n",
    "    while True:\n",
    "        try:\n",
    "            number = int(input('please enter a number: '))\n",
    "            break\n",
    "        except:\n",
    "            print(\"not a number\")\n",
    "            continue\n",
    "    \n",
    "        \n",
    "    while number > 1:\n",
    "        \n",
    "        \n",
    "        \n",
    "        if number%2 == 0:\n",
    "            number = number/2\n",
    "            print(number)\n",
    "            \n",
    "        elif number%2 == 1:\n",
    "            number = (number*3)+1\n",
    "            print(number)\n",
    "            \n",
    "    "
   ]
  },
  {
   "cell_type": "code",
   "execution_count": 2,
   "metadata": {},
   "outputs": [
    {
     "name": "stdout",
     "output_type": "stream",
     "text": [
      "please enter a number: a\n",
      "not a number\n",
      "please enter a number: 6\n",
      "3.0\n",
      "10.0\n",
      "5.0\n",
      "16.0\n",
      "8.0\n",
      "4.0\n",
      "2.0\n",
      "1.0\n"
     ]
    }
   ],
   "source": [
    "collatz()"
   ]
  },
  {
   "cell_type": "code",
   "execution_count": null,
   "metadata": {},
   "outputs": [],
   "source": []
  }
 ],
 "metadata": {
  "kernelspec": {
   "display_name": "Python 3",
   "language": "python",
   "name": "python3"
  },
  "language_info": {
   "codemirror_mode": {
    "name": "ipython",
    "version": 3
   },
   "file_extension": ".py",
   "mimetype": "text/x-python",
   "name": "python",
   "nbconvert_exporter": "python",
   "pygments_lexer": "ipython3",
   "version": "3.7.6"
  }
 },
 "nbformat": 4,
 "nbformat_minor": 4
}
